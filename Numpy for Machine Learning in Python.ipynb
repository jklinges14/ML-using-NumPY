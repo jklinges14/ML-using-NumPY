{
 "cells": [
  {
   "cell_type": "markdown",
   "metadata": {},
   "source": [
    "# Numpy for Machine Learning in Python"
   ]
  },
  {
   "cell_type": "code",
   "execution_count": null,
   "metadata": {},
   "outputs": [],
   "source": [
    "(1) Creating a Vector\n",
    "Here we use Numpy to create a 1-D Array which we then call a vector."
   ]
  },
  {
   "cell_type": "code",
   "execution_count": 1,
   "metadata": {},
   "outputs": [],
   "source": [
    "#Load Library\n",
    "import numpy as np\n",
    "\n",
    "#Create a vector as a Row\n",
    "vector_row = np.array([1,2,3])\n",
    "\n",
    "#Create vector as a Column\n",
    "vector_column = np.array([[1],[2],[3]])\n"
   ]
  },
  {
   "cell_type": "code",
   "execution_count": null,
   "metadata": {},
   "outputs": [],
   "source": [
    "# (2) Creating a Matrix\n",
    "We Create a 2-D Array in Numpy and call it a Matrix. It contains 2 rows and 3 columns.\n"
   ]
  },
  {
   "cell_type": "code",
   "execution_count": 6,
   "metadata": {},
   "outputs": [
    {
     "name": "stdout",
     "output_type": "stream",
     "text": [
      "[[1 2 3]\n",
      " [4 5 6]]\n"
     ]
    }
   ],
   "source": [
    "#Load Library\n",
    "import numpy as np\n",
    "\n",
    "#Create a Matrix\n",
    "matrix = np.array([[1,2,3],[4,5,6]])\n",
    "print(matrix)\n"
   ]
  },
  {
   "cell_type": "code",
   "execution_count": null,
   "metadata": {},
   "outputs": [],
   "source": [
    "(3) Creating a Sparse Matrix\n",
    "Given data with very few non zero values you want to efficiently represent it. Sparse Matrices store only non zero elements and assume all other values will be zero, leading to significant computational savings.\n"
   ]
  },
  {
   "cell_type": "code",
   "execution_count": 3,
   "metadata": {},
   "outputs": [
    {
     "name": "stdout",
     "output_type": "stream",
     "text": [
      "[[0 0]\n",
      " [0 1]\n",
      " [3 0]]\n"
     ]
    },
    {
     "ename": "NameError",
     "evalue": "name 'sparse' is not defined",
     "output_type": "error",
     "traceback": [
      "\u001b[1;31m---------------------------------------------------------------------------\u001b[0m",
      "\u001b[1;31mNameError\u001b[0m                                 Traceback (most recent call last)",
      "\u001b[1;32m<ipython-input-3-e9286dcaf22c>\u001b[0m in \u001b[0;36m<module>\u001b[1;34m\u001b[0m\n\u001b[0;32m      5\u001b[0m \u001b[0mmatrix\u001b[0m \u001b[1;33m=\u001b[0m \u001b[0mnp\u001b[0m\u001b[1;33m.\u001b[0m\u001b[0marray\u001b[0m\u001b[1;33m(\u001b[0m\u001b[1;33m[\u001b[0m\u001b[1;33m[\u001b[0m\u001b[1;36m0\u001b[0m\u001b[1;33m,\u001b[0m\u001b[1;36m0\u001b[0m\u001b[1;33m]\u001b[0m\u001b[1;33m,\u001b[0m\u001b[1;33m[\u001b[0m\u001b[1;36m0\u001b[0m\u001b[1;33m,\u001b[0m\u001b[1;36m1\u001b[0m\u001b[1;33m]\u001b[0m\u001b[1;33m,\u001b[0m\u001b[1;33m[\u001b[0m\u001b[1;36m3\u001b[0m\u001b[1;33m,\u001b[0m\u001b[1;36m0\u001b[0m\u001b[1;33m]\u001b[0m\u001b[1;33m]\u001b[0m\u001b[1;33m)\u001b[0m\u001b[1;33m\u001b[0m\u001b[1;33m\u001b[0m\u001b[0m\n\u001b[0;32m      6\u001b[0m \u001b[0mprint\u001b[0m\u001b[1;33m(\u001b[0m\u001b[0mmatrix\u001b[0m\u001b[1;33m)\u001b[0m\u001b[1;31m#Create Compressed Sparse Row(CSR) matrix\u001b[0m\u001b[1;33m\u001b[0m\u001b[1;33m\u001b[0m\u001b[0m\n\u001b[1;32m----> 7\u001b[1;33m \u001b[0mmatrix_sparse\u001b[0m \u001b[1;33m=\u001b[0m \u001b[0msparse\u001b[0m\u001b[1;33m.\u001b[0m\u001b[0mcsr_matrix\u001b[0m\u001b[1;33m(\u001b[0m\u001b[0mmatrix\u001b[0m\u001b[1;33m)\u001b[0m\u001b[1;33m\u001b[0m\u001b[1;33m\u001b[0m\u001b[0m\n\u001b[0m\u001b[0;32m      8\u001b[0m \u001b[0mprint\u001b[0m\u001b[1;33m(\u001b[0m\u001b[0mmatrix_sparse\u001b[0m\u001b[1;33m)\u001b[0m\u001b[1;33m\u001b[0m\u001b[1;33m\u001b[0m\u001b[0m\n",
      "\u001b[1;31mNameError\u001b[0m: name 'sparse' is not defined"
     ]
    }
   ],
   "source": [
    "#Load Library\n",
    "import numpy as np\n",
    "\n",
    "#Create a Matrix\n",
    "matrix = np.array([[0,0],[0,1],[3,0]])\n",
    "print(matrix)#Create Compressed Sparse Row(CSR) matrix\n",
    "matrix_sparse = sparse.csr_matrix(matrix)\n",
    "print(matrix_sparse)\n"
   ]
  },
  {
   "cell_type": "code",
   "execution_count": 4,
   "metadata": {},
   "outputs": [
    {
     "name": "stdout",
     "output_type": "stream",
     "text": [
      "[[1 2 3]\n",
      " [4 5 6]\n",
      " [7 8 9]]\n",
      "3\n"
     ]
    }
   ],
   "source": [
    "#Load Library\n",
    "import numpy as np\n",
    "\n",
    "#Create a vector as a Row\n",
    "vector_row = np.array([ 1,2,3,4,5,6 ])\n",
    "\n",
    "#Create a Matrix\n",
    "matrix = np.array([[1,2,3],[4,5,6],[7,8,9]])\n",
    "print(matrix)\n",
    "\n",
    "#Select 3rd element of Vector\n",
    "print(vector_row[2])\n"
   ]
  },
  {
   "cell_type": "code",
   "execution_count": null,
   "metadata": {},
   "outputs": [],
   "source": [
    "(4) Selecting Elements\n",
    "When you need to select one or more element in a vector or matrix\n",
    "\n"
   ]
  },
  {
   "cell_type": "code",
   "execution_count": 7,
   "metadata": {},
   "outputs": [
    {
     "name": "stdout",
     "output_type": "stream",
     "text": [
      "[[1 2 3]\n",
      " [4 5 6]\n",
      " [7 8 9]]\n",
      "3\n",
      "5\n",
      "[1 2 3 4 5 6]\n",
      "[1 2 3]\n",
      "[4 5 6]\n"
     ]
    },
    {
     "ename": "NameError",
     "evalue": "name 'vector' is not defined",
     "output_type": "error",
     "traceback": [
      "\u001b[1;31m---------------------------------------------------------------------------\u001b[0m",
      "\u001b[1;31mNameError\u001b[0m                                 Traceback (most recent call last)",
      "\u001b[1;32m<ipython-input-7-bfde9cb12eef>\u001b[0m in \u001b[0;36m<module>\u001b[1;34m\u001b[0m\n\u001b[0;32m     17\u001b[0m \u001b[0mprint\u001b[0m\u001b[1;33m(\u001b[0m\u001b[0mvector_row\u001b[0m\u001b[1;33m[\u001b[0m\u001b[1;33m:\u001b[0m\u001b[1;36m3\u001b[0m\u001b[1;33m]\u001b[0m\u001b[1;33m)\u001b[0m\u001b[1;31m#Select the everything after the 3rd element\u001b[0m\u001b[1;33m\u001b[0m\u001b[1;33m\u001b[0m\u001b[0m\n\u001b[0;32m     18\u001b[0m \u001b[0mprint\u001b[0m\u001b[1;33m(\u001b[0m\u001b[0mvector_row\u001b[0m\u001b[1;33m[\u001b[0m\u001b[1;36m3\u001b[0m\u001b[1;33m:\u001b[0m\u001b[1;33m]\u001b[0m\u001b[1;33m)\u001b[0m\u001b[1;31m#Select the last element\u001b[0m\u001b[1;33m\u001b[0m\u001b[1;33m\u001b[0m\u001b[0m\n\u001b[1;32m---> 19\u001b[1;33m \u001b[0mprint\u001b[0m\u001b[1;33m(\u001b[0m\u001b[0mvector\u001b[0m\u001b[1;33m[\u001b[0m\u001b[1;33m-\u001b[0m\u001b[1;36m1\u001b[0m\u001b[1;33m]\u001b[0m\u001b[1;33m)\u001b[0m\u001b[1;31m#Select the first 2 rows and all the columns of the matrix\u001b[0m\u001b[1;33m\u001b[0m\u001b[1;33m\u001b[0m\u001b[0m\n\u001b[0m\u001b[0;32m     20\u001b[0m \u001b[0mprint\u001b[0m\u001b[1;33m(\u001b[0m\u001b[0mmatrix\u001b[0m\u001b[1;33m[\u001b[0m\u001b[1;33m:\u001b[0m\u001b[1;36m2\u001b[0m\u001b[1;33m,\u001b[0m\u001b[1;33m:\u001b[0m\u001b[1;33m]\u001b[0m\u001b[1;33m)\u001b[0m\u001b[1;31m#Select all rows and the 2nd column of the matrix\u001b[0m\u001b[1;33m\u001b[0m\u001b[1;33m\u001b[0m\u001b[0m\n\u001b[0;32m     21\u001b[0m \u001b[0mprint\u001b[0m\u001b[1;33m(\u001b[0m\u001b[0mmatrix\u001b[0m\u001b[1;33m[\u001b[0m\u001b[1;33m:\u001b[0m\u001b[1;33m,\u001b[0m\u001b[1;36m1\u001b[0m\u001b[1;33m:\u001b[0m\u001b[1;36m2\u001b[0m\u001b[1;33m]\u001b[0m\u001b[1;33m)\u001b[0m\u001b[1;33m\u001b[0m\u001b[1;33m\u001b[0m\u001b[0m\n",
      "\u001b[1;31mNameError\u001b[0m: name 'vector' is not defined"
     ]
    }
   ],
   "source": [
    "#Load Library\n",
    "import numpy as np\n",
    "\n",
    "#Create a vector as a Row\n",
    "vector_row = np.array([ 1,2,3,4,5,6 ])\n",
    "\n",
    "#Create a Matrix\n",
    "matrix = np.array([[1,2,3],[4,5,6],[7,8,9]])\n",
    "print(matrix)\n",
    "\n",
    "#Select 3rd element of Vector\n",
    "print(vector_row[2])\n",
    "\n",
    "#Select 2nd row 2nd column\n",
    "print(matrix[1,1])#Select all elements of a vector\n",
    "print(vector_row[:])#Select everything up to and including the 3rd element\n",
    "print(vector_row[:3])#Select the everything after the 3rd element\n",
    "print(vector_row[3:])#Select the last element\n",
    "print(vector[-1])#Select the first 2 rows and all the columns of the matrix\n",
    "print(matrix[:2,:])#Select all rows and the 2nd column of the matrix\n",
    "print(matrix[:,1:2])\n",
    "\n"
   ]
  },
  {
   "cell_type": "code",
   "execution_count": null,
   "metadata": {},
   "outputs": [],
   "source": [
    "(5) Describing a Matrix\n",
    "When you want to know about the shape size and dimensions of a Matrix.\n"
   ]
  },
  {
   "cell_type": "code",
   "execution_count": 8,
   "metadata": {},
   "outputs": [
    {
     "name": "stdout",
     "output_type": "stream",
     "text": [
      "(3, 3)\n",
      "9\n",
      "2\n"
     ]
    }
   ],
   "source": [
    "import numpy as np\n",
    "\n",
    "\n",
    "#Create a Matrix\n",
    "matrix = np.array([[1,2,3],[4,5,6],[7,8,9]])#View the Number of Rows and Columns\n",
    "print(matrix.shape)#View the number of elements (rows*columns)\n",
    "print(matrix.size)#View the number of Dimensions(2 in this case)\n",
    "print(matrix.ndim)\n",
    "\n"
   ]
  },
  {
   "cell_type": "code",
   "execution_count": null,
   "metadata": {},
   "outputs": [],
   "source": [
    "(6) Applying operations to elements\n",
    "You want to apply some function to multiple elements in an array\n"
   ]
  },
  {
   "cell_type": "code",
   "execution_count": 10,
   "metadata": {},
   "outputs": [
    {
     "name": "stdout",
     "output_type": "stream",
     "text": [
      "[[1 2 3]\n",
      " [4 5 6]\n",
      " [7 8 9]]\n",
      "[[101 102 103]\n",
      " [104 105 106]\n",
      " [107 108 109]]\n"
     ]
    }
   ],
   "source": [
    "#Load Library\n",
    "import numpy as np\n",
    "\n",
    "#Create a Matrix\n",
    "matrix = np.array([[1,2,3],[4,5,6],[7,8,9]])\n",
    "print(matrix)\n",
    "\n",
    "#Create a function that adds 100 to something\n",
    "add_100 =lambda i: i+100\n",
    "\n",
    "#Convert it into a vectorized function\n",
    "vectorized_add_100= np.vectorize(add_100)\n",
    "\n",
    "#Apply function to all elements in matrix\n",
    "print(vectorized_add_100(matrix))\n"
   ]
  },
  {
   "cell_type": "code",
   "execution_count": null,
   "metadata": {},
   "outputs": [],
   "source": [
    "# (7) Finding the max and min values\n",
    "We use Numpy’s max and min functions:\n"
   ]
  },
  {
   "cell_type": "code",
   "execution_count": 11,
   "metadata": {},
   "outputs": [
    {
     "name": "stdout",
     "output_type": "stream",
     "text": [
      "[[1 2 3]\n",
      " [4 5 6]\n",
      " [7 8 9]]\n",
      "9\n",
      "1\n",
      "[7 8 9]\n",
      "[3 6 9]\n"
     ]
    }
   ],
   "source": [
    "#Load Library\n",
    "import numpy as np\n",
    "\n",
    "#Create a Matrix\n",
    "matrix = np.array([[1,2,3],[4,5,6],[7,8,9]])\n",
    "print(matrix)#Return the max element\n",
    "print(np.max(matrix))#Return the min element\n",
    "print(np.min(matrix))#To find the max element in each column\n",
    "print(np.max(matrix,axis=0))#To find the max element in each row\n",
    "print(np.max(matrix,axis=1))\n"
   ]
  },
  {
   "cell_type": "code",
   "execution_count": null,
   "metadata": {},
   "outputs": [],
   "source": [
    "(8) Calculating Average, Variance and Standard deviation\n",
    "When you want to calculate some descriptive statistics about an array.\n"
   ]
  },
  {
   "cell_type": "code",
   "execution_count": 12,
   "metadata": {},
   "outputs": [
    {
     "name": "stdout",
     "output_type": "stream",
     "text": [
      "[[1 2 3]\n",
      " [4 5 6]\n",
      " [7 8 9]]\n",
      "5.0\n",
      "2.581988897471611\n",
      "6.666666666666667\n"
     ]
    }
   ],
   "source": [
    "#Load Library\n",
    "import numpy as np\n",
    "\n",
    "#Create a Matrix\n",
    "matrix = np.array([[1,2,3],[4,5,6],[7,8,9]])\n",
    "print(matrix)#Mean\n",
    "print(np.mean(matrix))#Standard Dev.\n",
    "print(np.std(matrix))#Variance\n",
    "print(np.var(matrix))\n",
    "\n"
   ]
  },
  {
   "cell_type": "code",
   "execution_count": null,
   "metadata": {},
   "outputs": [],
   "source": [
    "# 9) Reshaping Arrays\n",
    "When you want to reshape an array(changing the number of rows and columns) without changing the elements.\n"
   ]
  },
  {
   "cell_type": "code",
   "execution_count": 13,
   "metadata": {},
   "outputs": [
    {
     "name": "stdout",
     "output_type": "stream",
     "text": [
      "[[1 2 3]\n",
      " [4 5 6]\n",
      " [7 8 9]]\n",
      "[[1]\n",
      " [2]\n",
      " [3]\n",
      " [4]\n",
      " [5]\n",
      " [6]\n",
      " [7]\n",
      " [8]\n",
      " [9]]\n",
      "[[1 2 3 4 5 6 7 8 9]]\n"
     ]
    }
   ],
   "source": [
    "#Load Library\n",
    "import numpy as np\n",
    "\n",
    "#Create a Matrix\n",
    "matrix = np.array([[1,2,3],[4,5,6],[7,8,9]])\n",
    "print(matrix)#Reshape\n",
    "print(matrix.reshape(9,1))#Here -1 says as many columns as needed and 1 row\n",
    "print(matrix.reshape(1,-1))#If we provide only 1 value Reshape would return a 1-d array of that lengthprint(marix.reshape(9))#We can also use the Flatten method to convert a matrix to 1-d arrayprint(matrix.flatten())\n"
   ]
  },
  {
   "cell_type": "code",
   "execution_count": null,
   "metadata": {},
   "outputs": [],
   "source": [
    "(10) Transposing a vector or a Matrix\n",
    "By transposing you interchange the rows and columns of a Matrix\n"
   ]
  },
  {
   "cell_type": "code",
   "execution_count": 14,
   "metadata": {},
   "outputs": [
    {
     "name": "stdout",
     "output_type": "stream",
     "text": [
      "[[1 2 3]\n",
      " [4 5 6]\n",
      " [7 8 9]]\n",
      "[[1 4 7]\n",
      " [2 5 8]\n",
      " [3 6 9]]\n"
     ]
    }
   ],
   "source": [
    "#Load Library\n",
    "import numpy as np\n",
    "\n",
    "#Create a Matrix\n",
    "matrix = np.array([[1,2,3],[4,5,6],[7,8,9]])\n",
    "print(matrix)#Transpose the matrix\n",
    "print(matrix.T)\n"
   ]
  },
  {
   "cell_type": "code",
   "execution_count": null,
   "metadata": {},
   "outputs": [],
   "source": [
    "(11) Finding the Determinant and Rank of a Matrix\n",
    "The rank of a Matrix is the number of dimensions of the vector space spanned by its rows or columns.\n"
   ]
  },
  {
   "cell_type": "code",
   "execution_count": 15,
   "metadata": {},
   "outputs": [
    {
     "name": "stdout",
     "output_type": "stream",
     "text": [
      "[[1 2 3]\n",
      " [4 5 6]\n",
      " [7 8 9]]\n",
      "-9.51619735392994e-16\n",
      "2\n"
     ]
    }
   ],
   "source": [
    "#Load Library\n",
    "import numpy as np\n",
    "\n",
    "#Create a Matrix\n",
    "matrix = np.array([[1,2,3],[4,5,6],[7,8,9]])\n",
    "print(matrix)#Calculate the Determinant\n",
    "print(np.linalg.det(matrix))#Calculate the Rank\n",
    "print(np.linalg.matrix_rank(matrix))\n"
   ]
  },
  {
   "cell_type": "code",
   "execution_count": null,
   "metadata": {},
   "outputs": [],
   "source": [
    "(12) Getting the Diagonal of a Matrix\n",
    "When you need to extract only the diagonal elements of a matrix\n",
    "\n"
   ]
  },
  {
   "cell_type": "code",
   "execution_count": 16,
   "metadata": {},
   "outputs": [
    {
     "name": "stdout",
     "output_type": "stream",
     "text": [
      "[[1 2 3]\n",
      " [4 5 6]\n",
      " [7 8 9]]\n",
      "[1 5 9]\n",
      "[2 6]\n",
      "[4 8]\n"
     ]
    }
   ],
   "source": [
    "#Load Library\n",
    "import numpy as np\n",
    "\n",
    "#Create a Matrix\n",
    "matrix = np.array([[1,2,3],[4,5,6],[7,8,9]])\n",
    "print(matrix)#Print the Principal diagonal\n",
    "print(matrix.diagonal())#Print the diagonal one above the Principal diagonal\n",
    "print(matrix.diagonal(offset=1))#Print the diagonal one below Principal diagonal\n",
    "print(matrix.diagonal(offset=-1))\n"
   ]
  },
  {
   "cell_type": "code",
   "execution_count": null,
   "metadata": {},
   "outputs": [],
   "source": [
    "(13) Calculating the trace of a Matrix\n",
    "Trace of a Matrix is the sum of elements on the Principal Diagonal of the Matrix.\n",
    "\n"
   ]
  },
  {
   "cell_type": "code",
   "execution_count": 17,
   "metadata": {},
   "outputs": [
    {
     "name": "stdout",
     "output_type": "stream",
     "text": [
      "[[1 2 3]\n",
      " [4 5 6]\n",
      " [7 8 9]]\n",
      "15\n"
     ]
    }
   ],
   "source": [
    "#Load Library\n",
    "import numpy as np\n",
    "\n",
    "#Create a Matrix\n",
    "matrix = np.array([[1,2,3],[4,5,6],[7,8,9]])\n",
    "print(matrix)#Print the Trace\n",
    "print(matrix.trace())\n"
   ]
  },
  {
   "cell_type": "code",
   "execution_count": null,
   "metadata": {},
   "outputs": [],
   "source": [
    "14) Finding Eigenvalues and Eigenvectors\n",
    "Eigenvectors are widely used in Machine Learning libraries. Intutively given a linear transformation represented by a matrix,A, eigenvectors are vectors that when that transformation is applied, change only in scale(not direction).More formally\n",
    "Av=Kv\n",
    "Here A is a square matrix, K contains the eigenvalues and v contains the eigenvectors.\n"
   ]
  },
  {
   "cell_type": "code",
   "execution_count": 18,
   "metadata": {},
   "outputs": [
    {
     "name": "stdout",
     "output_type": "stream",
     "text": [
      "[[1 2 3]\n",
      " [4 5 6]\n",
      " [7 8 9]]\n",
      "[ 1.61168440e+01 -1.11684397e+00 -9.75918483e-16]\n",
      "[[-0.23197069 -0.78583024  0.40824829]\n",
      " [-0.52532209 -0.08675134 -0.81649658]\n",
      " [-0.8186735   0.61232756  0.40824829]]\n"
     ]
    }
   ],
   "source": [
    "#Load Library\n",
    "import numpy as np\n",
    "\n",
    "#Create a Matrix\n",
    "matrix = np.array([[1,2,3],[4,5,6],[7,8,9]])\n",
    "print(matrix)\n",
    "\n",
    "# Calculate the Eigenvalues and Eigenvectors of that Matrix\n",
    "eigenvalues ,eigenvectors=np.linalg.eig(matrix)\n",
    "print(eigenvalues)\n",
    "print(eigenvectors)\n"
   ]
  },
  {
   "cell_type": "code",
   "execution_count": null,
   "metadata": {},
   "outputs": [],
   "source": [
    "15) Calculating Dot Products"
   ]
  },
  {
   "cell_type": "code",
   "execution_count": null,
   "metadata": {},
   "outputs": [],
   "source": [
    "#Load Library\n",
    "import numpy as np\n",
    "\n",
    "#Create vector-1\n",
    "vector_1 = np.array([ 1,2,3 ])#Create vector-2\n",
    "vector_1 = np.array([ 4,5,6 ])#Calculate Dot Product\n",
    "print(np.dot(vector_1,vector_2))#Alternatively you can use @ to calculate dot products\n",
    "print(vector_1 @ vector_2)\n"
   ]
  },
  {
   "cell_type": "code",
   "execution_count": null,
   "metadata": {},
   "outputs": [],
   "source": [
    "(16) Adding, Subtracting and Multiplying Matrices\n",
    "\n"
   ]
  },
  {
   "cell_type": "code",
   "execution_count": 19,
   "metadata": {},
   "outputs": [
    {
     "name": "stdout",
     "output_type": "stream",
     "text": [
      "[[ 8 10 12]\n",
      " [ 8 10 12]\n",
      " [ 8 10 12]]\n",
      "[[-6 -6 -6]\n",
      " [ 0  0  0]\n",
      " [ 6  6  6]]\n",
      "[[ 7 16 27]\n",
      " [16 25 36]\n",
      " [ 7 16 27]]\n"
     ]
    }
   ],
   "source": [
    "#Load Library\n",
    "import numpy as np\n",
    "\n",
    "#Create Matrix-1\n",
    "matrix_1 = np.array([[1,2,3],[4,5,6],[7,8,9]])#Create Matrix-2\n",
    "matrix_2 = np.array([[7,8,9],[4,5,6],[1,2,3]])#Add the 2 Matrices\n",
    "print(np.add(matrix_1,matrix_2))#Subtraction\n",
    "print(np.subtract(matrix_1,matrix_2))#Multiplication(Element wise, not Dot Product)\n",
    "print(matrix_1*matrix_2)\n"
   ]
  },
  {
   "cell_type": "code",
   "execution_count": null,
   "metadata": {},
   "outputs": [],
   "source": [
    "(17) Inverting a Matrix\n",
    "This is used when you want to calculate the inverse of a Square Matrix\n",
    "\n"
   ]
  },
  {
   "cell_type": "code",
   "execution_count": 20,
   "metadata": {},
   "outputs": [
    {
     "name": "stdout",
     "output_type": "stream",
     "text": [
      "[[1 2 3]\n",
      " [4 5 6]\n",
      " [7 8 9]]\n",
      "[[ 3.15251974e+15 -6.30503948e+15  3.15251974e+15]\n",
      " [-6.30503948e+15  1.26100790e+16 -6.30503948e+15]\n",
      " [ 3.15251974e+15 -6.30503948e+15  3.15251974e+15]]\n"
     ]
    }
   ],
   "source": [
    "#Load Library\n",
    "import numpy as np\n",
    "\n",
    "#Create a Matrix\n",
    "matrix = np.array([[1,2,3],[4,5,6],[7,8,9]])\n",
    "print(matrix)#Calculate its inverse\n",
    "print(np.linalg.inv(matrix))\n"
   ]
  },
  {
   "cell_type": "code",
   "execution_count": null,
   "metadata": {},
   "outputs": [],
   "source": [
    "(18) Generating Random values\n",
    "\n",
    "Numpy offers a wide variety of means to generate Random Numbers.\n",
    "Moreover, It can sometimes be useful to return the same random numbers to get predictable, repeatable results. We can do so by setting the ‘Seed’ (An Integer) of the pseudorandom generator. Random processes with the same seed would always produce the same result.\n"
   ]
  },
  {
   "cell_type": "code",
   "execution_count": 21,
   "metadata": {},
   "outputs": [
    {
     "name": "stdout",
     "output_type": "stream",
     "text": [
      "[5 8 9]\n",
      "[-0.60434568  0.10224438 -1.21187015]\n"
     ]
    }
   ],
   "source": [
    "#Load Library\n",
    "import numpy as np#Set seed\n",
    "np.random.seed(1)#Generate 3 random integers b/w 1 and 10\n",
    "print(np.random.randint(0,11,3))#Draw 3 numbers from a normal distribution with mean 1.0 and std 2.0\n",
    "print(np.random.normal(1.0,2.0,3))\n"
   ]
  }
 ],
 "metadata": {
  "kernelspec": {
   "display_name": "Python 3",
   "language": "python",
   "name": "python3"
  },
  "language_info": {
   "codemirror_mode": {
    "name": "ipython",
    "version": 3
   },
   "file_extension": ".py",
   "mimetype": "text/x-python",
   "name": "python",
   "nbconvert_exporter": "python",
   "pygments_lexer": "ipython3",
   "version": "3.6.10"
  }
 },
 "nbformat": 4,
 "nbformat_minor": 4
}
